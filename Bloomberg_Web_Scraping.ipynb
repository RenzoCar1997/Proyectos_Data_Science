{
  "nbformat": 4,
  "nbformat_minor": 0,
  "metadata": {
    "colab": {
      "name": "Bloomberg_Web_Scraping.ipynb",
      "provenance": []
    },
    "kernelspec": {
      "name": "python3",
      "display_name": "Python 3"
    },
    "language_info": {
      "name": "python"
    }
  },
  "cells": [
    {
      "cell_type": "code",
      "source": [
        "#Importar módulos \n",
        "import requests\n",
        "import json\n",
        "from urllib.parse import quote\n",
        "import pandas as pd\n",
        "from datetime import datetime as dt"
      ],
      "metadata": {
        "id": "RxFJix_mxZ0Y"
      },
      "execution_count": null,
      "outputs": []
    },
    {
      "cell_type": "code",
      "source": [
        "# Parámetros de conexión\n",
        "HEADERS = {\n",
        "    'Host': 'www.bloomberg.com',\n",
        "    'User-Agent': 'Mozilla/5.0 (X11; Linux x86_64) AppleWebKit/537.36 (KHTML, like Gecko) Chrome/102.0.5005.63 Safari/537.36',\n",
        "    'Accept': '*/*',\n",
        "    'Accept-Language': 'de,en-US;q=0.7,en;q=0.3',\n",
        "    'Accept-Encoding': 'gzip, deflate, br',\n",
        "    'Accept': 'application/json',\n",
        "    'Content-Type': 'application/json; charset=utf8',\n",
        "    'media_type': 'application/json',\n",
        "    'Referer': 'https://www.bloomberg.com/quote/',\n",
        "    'DNT': '1',\n",
        "    'Connection': 'keep-alive',\n",
        "    'TE': 'Trailers'\n",
        "}\n",
        "URL_ROOT = 'https://www.bloomberg.com/markets2/api/datastrip'\n",
        "URL_PARAMS = 'locale=en&customTickerList=true'\n",
        "VALID_TYPE = {'currency', 'index'}"
      ],
      "metadata": {
        "id": "jjeIKhJhxefs"
      },
      "execution_count": null,
      "outputs": []
    },
    {
      "cell_type": "code",
      "source": [
        "# Función Scraper\n",
        "def scraper(object_id: str = None, object_type: str = None, timeout: int = 5) -> list:\n",
        "    \"\"\"\n",
        "    Get the Bloomberg data for the given object.\n",
        "    :param object_id: The Bloomberg identifier of the object.\n",
        "    :param object_type: The type of the object. (Currency or Index)\n",
        "    :param timeout: Maximal number of seconds to wait for a response.\n",
        "    :return: The data formatted as dictionary.\n",
        "    \"\"\"\n",
        "    object_type = object_type.lower()\n",
        "    if object_type not in VALID_TYPE:\n",
        "        return list()\n",
        "    # Build headers and url\n",
        "    object_append = '%s:%s' % (object_id, 'IND' if object_type == 'index' else 'CUR')\n",
        "    headers = HEADERS\n",
        "    headers['Referer'] += object_append\n",
        "    url = '%s/%s?%s' % (URL_ROOT, quote(object_append), URL_PARAMS)\n",
        "    # Make the request and check response status code\n",
        "    response = requests.get(url=url, headers=headers)\n",
        "    if response.status_code in range(200, 230):\n",
        "        return  response.json()\n",
        "    return list()"
      ],
      "metadata": {
        "id": "oH_63wlU7yim"
      },
      "execution_count": null,
      "outputs": []
    },
    {
      "cell_type": "code",
      "source": [
        "object_append = '%s:%s' % (object_id, 'IND' if object_type == 'index' else 'CUR')\n",
        "headers = HEADERS\n",
        "headers['Referer'] += object_append\n",
        "url = '%s/%s?%s' % (URL_ROOT, quote(object_append), URL_PARAMS)\n",
        "response = requests.get(url=url, headers=headers)\n",
        "response.headers[\"content-type\"]"
      ],
      "metadata": {
        "colab": {
          "base_uri": "https://localhost:8080/",
          "height": 35
        },
        "id": "Ek57pc_y--hd",
        "outputId": "18fa0a9e-4ce8-4df3-e827-32d81884e5a3"
      },
      "execution_count": null,
      "outputs": [
        {
          "output_type": "execute_result",
          "data": {
            "text/plain": [
              "'text/html, text/html; charset=utf-8'"
            ],
            "application/vnd.google.colaboratory.intrinsic+json": {
              "type": "string"
            }
          },
          "metadata": {},
          "execution_count": 11
        }
      ]
    },
    {
      "cell_type": "code",
      "source": [
        "#Definimos la moneda \n",
        "object_id, object_type = 'PEN', 'currency'\n",
        "data = scraper(object_id=object_id, object_type=object_type)\n",
        "print('The exchange rate for USD per {} is: {}'.format(object_id, data[0]['price']))"
      ],
      "metadata": {
        "id": "AVwKUfcTx6p7"
      },
      "execution_count": null,
      "outputs": []
    },
    {
      "cell_type": "code",
      "source": [
        "#Definir variables\n",
        "from datetime import datetime, timedelta, timezone\n",
        "\n",
        "fecha_hora = datetime.strptime(data[0]['lastUpdate'],'%Y-%m-%dT%H:%M:%S.%f%z')\n",
        "utc_5 = timezone(timedelta(hours=-5))\n",
        "fecha_hora = fecha_hora.astimezone(utc_5)\n",
        "precio = data[0]['price']\n",
        "precio_apertura = data[0]['openPrice']\n",
        "return_ytd = data[0]['totalReturnYtd']\n",
        "precio_mas_alto = data[0]['highPrice']\n",
        "precio_mas_bajo = data[0]['lowPrice']\n",
        "precio_mas_alto_52_semanas = data[0]['highPrice52Week']\n",
        "precio_mas_bajo_52_semanas = data[0]['lowPrice52Week']\n",
        "cambio_precio_1_day = data[0]['priceChange1Day']\n",
        "cambio_porcentual_1_day = data[0]['percentChange1Day']"
      ],
      "metadata": {
        "id": "BNUvcvzTG-kT"
      },
      "execution_count": null,
      "outputs": []
    },
    {
      "cell_type": "code",
      "source": [
        "print(fecha_hora)"
      ],
      "metadata": {
        "colab": {
          "base_uri": "https://localhost:8080/"
        },
        "id": "tcNKtfAUNemp",
        "outputId": "6e910899-f387-4c05-a3dc-7e7e8d09027b"
      },
      "execution_count": null,
      "outputs": [
        {
          "output_type": "stream",
          "name": "stdout",
          "text": [
            "2022-05-31 13:29:48-05:00\n"
          ]
        }
      ]
    },
    {
      "cell_type": "code",
      "source": [
        "#Crear DataFrame\n",
        "df = pd.DataFrame({\n",
        "    \"Precio\":precio,\n",
        "    \"Precio de apertura\":precio_apertura,\n",
        "    \"Precio más alto\": precio_mas_alto,\n",
        "    \"Precio más bajo\": precio_mas_bajo,\n",
        "    \"Precio más alto (52 semanas)\": precio_mas_alto_52_semanas,\n",
        "    \"Precio más bajo (52 semanas)\": precio_mas_bajo_52_semanas,\n",
        "    \"Return YTD\": return_ytd,\n",
        "    \"Variación en soles\": cambio_precio_1_day,\n",
        "    \"Variación porcentaje\":cambio_porcentual_1_day,\n",
        "}, index=[fecha_hora])\n",
        "print(df.head())"
      ],
      "metadata": {
        "id": "tSJGPi6CHC3W"
      },
      "execution_count": null,
      "outputs": []
    },
    {
      "cell_type": "code",
      "source": [
        "#Convertir a csv\n",
        "df.to_csv('/content/tipo_cambio.csv', sep=';', encoding='utf-8-sig')"
      ],
      "metadata": {
        "id": "-dCNKeDPR6pX"
      },
      "execution_count": null,
      "outputs": []
    }
  ]
}