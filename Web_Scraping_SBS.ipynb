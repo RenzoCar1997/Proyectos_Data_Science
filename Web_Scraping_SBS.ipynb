{
 "cells": [
  {
   "cell_type": "code",
   "execution_count": 1,
   "metadata": {},
   "outputs": [
    {
     "name": "stdout",
     "output_type": "stream",
     "text": [
      "200\n"
     ]
    }
   ],
   "source": [
    "# Hacer peticion HTTP\n",
    "import requests\n",
    "# Manipular código y guardar datos tabulares en archivo CSV\n",
    "import pandas as pd\n",
    "import numpy as np\n",
    "from datetime import date\n",
    "\n",
    "# url de la página web a «escrapear»\n",
    "url = 'https://www.sbs.gob.pe/app/pp/EstadisticasSAEEPortal/Paginas/TIActivaTipoCreditoEmpresa.aspx?tip=B'\n",
    "\n",
    "# pasar \"User-agent\" para simular interacción con la página usando Navegador web\n",
    "headers = {\"User-agent\": 'Mozilla/5.0 (Windows NT 10.0; Win64; x64) AppleWebKit/537.36 (KHTML, like Gecko) Chrome/79.0.3945.130 Safari/537.36'}\n",
    "\n",
    "respuesta = requests.get(url, headers=headers)\n",
    "\n",
    "# El código de respuesta <200> indicará que todo salió bien\n",
    "print(respuesta.status_code)"
   ]
  },
  {
   "cell_type": "code",
   "execution_count": 2,
   "metadata": {},
   "outputs": [],
   "source": [
    "all_tables = pd.read_html(respuesta.content, encoding = 'utf8')"
   ]
  },
  {
   "cell_type": "code",
   "execution_count": 3,
   "metadata": {},
   "outputs": [],
   "source": [
    "# Guardar tabla y encabezados en variable\n",
    "moneda_nacional = all_tables[9]\n",
    "moneda_extranjera = all_tables[11]\n",
    "encabezados = all_tables[10].iloc[48:94]['BBVA']"
   ]
  },
  {
   "cell_type": "code",
   "execution_count": 4,
   "metadata": {},
   "outputs": [
    {
     "name": "stdout",
     "output_type": "stream",
     "text": [
      "BBVA             float64\n",
      "Comercio         float64\n",
      "Crédito          float64\n",
      "Pichincha        float64\n",
      "BIF              float64\n",
      "Scotiabank       float64\n",
      "Citibank         float64\n",
      "Interbank        float64\n",
      "Mibanco          float64\n",
      "GNB              float64\n",
      "Falabella        float64\n",
      "Santander        float64\n",
      "Ripley           float64\n",
      "Alfin            float64\n",
      "ICBC             float64\n",
      "Bank of China    float64\n",
      "Promedio         float64\n",
      "dtype: object\n"
     ]
    }
   ],
   "source": [
    "#Moneda Nacional \n",
    "moneda_nacional.set_index(encabezados, inplace=True)\n",
    "moneda_nacional.index.name = 'Tasa Anual (%)'\n",
    "moneda_nacional.replace(['-','s.i.'],np.nan, inplace=True)\n",
    "for var in moneda_nacional:\n",
    "  moneda_nacional[var] = moneda_nacional[var].astype(float)\n",
    "print(moneda_nacional.dtypes)"
   ]
  },
  {
   "cell_type": "code",
   "execution_count": 6,
   "metadata": {},
   "outputs": [],
   "source": [
    "fecha_hoy = str(date.today().strftime(\"%d-%m-%Y\"))\n",
    "\n",
    "nombre = 'C:/Users/RENZO/Documents/Python Programing Course/Tasa de interés promedio del sistema bancario en Moneda Nacional al '+fecha_hoy+'.csv'\n",
    "moneda_nacional.to_csv(nombre, sep=';', encoding='utf-8-sig')"
   ]
  },
  {
   "cell_type": "code",
   "execution_count": null,
   "metadata": {},
   "outputs": [],
   "source": []
  }
 ],
 "metadata": {
  "kernelspec": {
   "display_name": "Python 3",
   "language": "python",
   "name": "python3"
  },
  "language_info": {
   "codemirror_mode": {
    "name": "ipython",
    "version": 3
   },
   "file_extension": ".py",
   "mimetype": "text/x-python",
   "name": "python",
   "nbconvert_exporter": "python",
   "pygments_lexer": "ipython3",
   "version": "3.7.6"
  }
 },
 "nbformat": 4,
 "nbformat_minor": 4
}
